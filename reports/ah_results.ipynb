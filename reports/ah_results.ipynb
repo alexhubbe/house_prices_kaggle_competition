{
 "cells": [
  {
   "cell_type": "markdown",
   "id": "b4c3df2d-adbb-47ab-941f-0e882eca2222",
   "metadata": {},
   "source": [
    "|    Data   | Autogluon presets, <br> time (min) | Score (rmse) |\n",
    "|:---------:|:-----------------------:|:------------:|\n",
    "| Original data   | Good, 30   | .11847   |\n",
    "| + longitude and latitude   | Good, 30   | .11773   |\n",
    "| - 'Street', 'Utilities', 'RoofMatl','Condition2','PoolQC' | Good, 30   | .11771  |\n",
    "| + NaN treatment | Good, 30   | .11624 |\n",
    "| + Median price from surrounding houses | Good, 30   | .11486 |\n",
    "| +  | Good, 30   | .1 |\n",
    "\n",
    "\n",
    " "
   ]
  },
  {
   "cell_type": "markdown",
   "id": "fa575be2-0294-40a7-ac3f-276c15547d6e",
   "metadata": {},
   "source": [
    "### Proposed Treatments That Did Not Improve the Scores in the Test Dataset  \n",
    "\n",
    "| **Treatments** |  \n",
    "|:--------------:|  \n",
    "| Combining underrepresented classes |  \n",
    "| Grouping neighborhoods into larger areas |  \n",
    "| Defining the seasons of the year |  \n",
    "| Defining deltas to represent features related to construction, remodeling, and selling year |  \n",
    "| Removing highly discrepant outliers | \n",
    "| Case-Shiller U.S. National Home Price Index |\n",
    "| All-Transactions House Price Index for Ames, IA |"
   ]
  }
 ],
 "metadata": {
  "kernelspec": {
   "display_name": "Python [conda env:machine_learning]",
   "language": "python",
   "name": "conda-env-machine_learning-py"
  },
  "language_info": {
   "codemirror_mode": {
    "name": "ipython",
    "version": 3
   },
   "file_extension": ".py",
   "mimetype": "text/x-python",
   "name": "python",
   "nbconvert_exporter": "python",
   "pygments_lexer": "ipython3",
   "version": "3.12.2"
  }
 },
 "nbformat": 4,
 "nbformat_minor": 5
}
